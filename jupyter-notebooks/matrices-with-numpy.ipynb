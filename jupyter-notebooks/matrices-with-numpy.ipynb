{
 "cells": [
  {
   "cell_type": "markdown",
   "metadata": {},
   "source": [
    "# Работа с матрицами/массивами в Python (библиотека [`numpy`](https://numpy.org/))"
   ]
  },
  {
   "cell_type": "code",
   "execution_count": 1,
   "metadata": {},
   "outputs": [],
   "source": [
    "import numpy as np"
   ]
  },
  {
   "cell_type": "markdown",
   "metadata": {},
   "source": [
    "## Матрицы в `numpy`\n",
    "\n",
    "<div style=\"background-color:Bisque; color:DarkBlue; padding:30px;\">\n",
    "\n",
    "- Для задания матриц используем метод `numpy.array()` \n",
    "- Матрицы задаются __построчно__ (как список строк)\n",
    "- Размер матрицы находится в `.shape` \n",
    "\n",
    "</div>\n",
    "\n",
    "__Пример__: Зададим матрицу\n",
    "\n",
    "$$\n",
    "\tA=\\begin{pmatrix} 1 & 2 & 0 \\\\ -1 & 0 & 1 \\\\ 1 & 0 & 1 \\end{pmatrix}\n",
    "$$"
   ]
  },
  {
   "cell_type": "code",
   "execution_count": 2,
   "metadata": {},
   "outputs": [
    {
     "name": "stdout",
     "output_type": "stream",
     "text": [
      "[[ 1  2  0]\n",
      " [-1  0  1]\n",
      " [ 1  0  1]]\n"
     ]
    }
   ],
   "source": [
    "A = np.array([[1, 2, 0], [-1, 0, 1], [1, 0, 1]])\n",
    "print(A)"
   ]
  },
  {
   "cell_type": "code",
   "execution_count": 3,
   "metadata": {},
   "outputs": [
    {
     "name": "stdout",
     "output_type": "stream",
     "text": [
      "(3, 3)\n"
     ]
    }
   ],
   "source": [
    "# её размер\n",
    "print(A.shape)"
   ]
  },
  {
   "cell_type": "markdown",
   "metadata": {},
   "source": [
    "## Скалярное умножение матриц\n",
    "\n",
    "\n",
    "<div style=\"background-color:Bisque; color:DarkBlue; padding:30px;\">\n",
    "\n",
    "Пусть $A_{n,m}=(a_{ij})$ и $c\\in\\mathbb{R}$. Тогда\n",
    "\n",
    "$$\n",
    "\tcA=(cA)_{n,m}=(ca_{ij})\n",
    "$$\n",
    "\n",
    "</div>\n",
    "\n",
    "__Пример__: вычислим $cA$ для\n",
    "\n",
    "$$\n",
    "\\begin{aligned}\n",
    "\tc&=3 & A&=\\begin{pmatrix} 2 & 1 \\\\ -1 & 3\\end{pmatrix}\n",
    "\\end{aligned}\n",
    "$$"
   ]
  },
  {
   "cell_type": "code",
   "execution_count": 4,
   "metadata": {},
   "outputs": [
    {
     "name": "stdout",
     "output_type": "stream",
     "text": [
      "[[ 6  3]\n",
      " [-3  9]]\n"
     ]
    }
   ],
   "source": [
    "A = np.array([[2, 1], [-1, 3]])\n",
    "print(3*A)"
   ]
  },
  {
   "cell_type": "markdown",
   "metadata": {},
   "source": [
    "## Сложение/вычитание матриц\n",
    "\n",
    "<div style=\"background-color:Bisque; color:DarkBlue; padding:30px;\">\n",
    "\n",
    "Для произвольных матриц __одного и того же размера__ $A_{n,m}=(a_{ij}), B_{n,m}=(b_{ij})$ можно определить\n",
    "\n",
    "$$\n",
    "\tA\\pm B =(A\\pm B)_{n,m}=(a_{ij}\\pm b_{ij})\n",
    "$$\n",
    "\n",
    "</div>\n",
    "\n",
    "\n",
    "\n",
    "__Пример__: Вычислим \n",
    "\n",
    "$$\n",
    "\\begin{aligned}\n",
    "\tA&\\pm B & A&=\\begin{pmatrix} 0 & 1 & 1 \\\\ 2 & -1 & 0\\end{pmatrix} & B&=\\begin{pmatrix} 1 & 2 & -2 \\\\ 0 & 1 & -2\\end{pmatrix}\n",
    "\\end{aligned}\n",
    "$$"
   ]
  },
  {
   "cell_type": "code",
   "execution_count": 5,
   "metadata": {},
   "outputs": [
    {
     "name": "stdout",
     "output_type": "stream",
     "text": [
      "[[ 1  3 -1]\n",
      " [ 2  0 -2]]\n",
      "[[-1 -1  3]\n",
      " [ 2 -2  2]]\n"
     ]
    }
   ],
   "source": [
    "A = np.array([[0, 1, 1], [2, -1, 0]])\n",
    "B = np.array([[1, 2, -2], [0, 1, -2]])\n",
    "print(A+B)\n",
    "print(A-B)"
   ]
  },
  {
   "cell_type": "markdown",
   "metadata": {},
   "source": [
    "## Транспонирование матриц\n",
    "\n",
    "<div style=\"background-color:Bisque; color:DarkBlue; padding:30px;\">\n",
    "\n",
    "Для произвольной матрицы $A_{n,m}=(a_{ij})$ определим __транспонированную марицу__ $A^\\top_{m,n}$ как\n",
    "\n",
    "$$\n",
    "\t[A^\\top]_{i,j}=[A]_{j,i}\n",
    "$$\n",
    "\n",
    "</div>\n",
    "\n",
    "__Пример__: Вычислим \n",
    "\n",
    "$$\n",
    "\\begin{aligned}\n",
    "\t&A^\\top & A&=\\begin{pmatrix} 1 & 1 \\\\ 0 & -1 \\\\ 2 & 1 \\\\ 1 & -1 \\end{pmatrix}\n",
    "\\end{aligned}\n",
    "$$"
   ]
  },
  {
   "cell_type": "code",
   "execution_count": 6,
   "metadata": {},
   "outputs": [
    {
     "name": "stdout",
     "output_type": "stream",
     "text": [
      "[[ 1  0  2  1]\n",
      " [ 1 -1  1 -1]]\n"
     ]
    }
   ],
   "source": [
    "A = np.array([[1, 1], [0, -1], [2, 1], [1, -1]])\n",
    "print(A.T)"
   ]
  },
  {
   "cell_type": "markdown",
   "metadata": {},
   "source": [
    "## Умножение матриц\n",
    "\n",
    "### произведение Адамара\n",
    "\n",
    "<div style=\"background-color:Bisque; color:DarkBlue; padding:30px;\">\n",
    "\n",
    "Для произвольных матриц __одного и того же размера__ $A_{n,m}=(a_{ij}), B_{n,m}=(b_{ij})$ можно определить __их произведение Адамара__ (умножение поэлементно!)\n",
    "\n",
    "$$\n",
    "\tA\\odot B =(A\\odot B)_{n,m}=(a_{ij}\\cdot b_{ij})\n",
    "$$\n",
    "\n",
    "Очевидно\n",
    "\n",
    "$$\n",
    "\tA\\odot B=B\\odot A\n",
    "$$\n",
    "\n",
    "</div>\n",
    "\n",
    "__Пример__: Вычислим \n",
    "\n",
    "$$\n",
    "\\begin{aligned}\n",
    "\tA&\\odot B & A&=\\begin{pmatrix} 0 & 1 & 1 \\\\ 2 & -1 & 0\\end{pmatrix} & B&=\\begin{pmatrix} 1 & 2 & -2 \\\\ 0 & 1 & -2\\end{pmatrix}\n",
    "\\end{aligned}\n",
    "$$"
   ]
  },
  {
   "cell_type": "code",
   "execution_count": 7,
   "metadata": {},
   "outputs": [
    {
     "name": "stdout",
     "output_type": "stream",
     "text": [
      "[[ 0  2 -2]\n",
      " [ 0 -1  0]]\n"
     ]
    }
   ],
   "source": [
    "A = np.array([[0, 1, 1], [2, -1, 0]])\n",
    "B = np.array([[1, 2, -2], [0, 1, -2]])\n",
    "print(A*B)"
   ]
  },
  {
   "cell_type": "markdown",
   "metadata": {},
   "source": [
    "### Матричное произведение\n",
    "\n",
    "<div style=\"background-color:Bisque; color:DarkBlue; padding:30px;\">\n",
    "\n",
    "Для произвольных матриц $A_{n,k}=(a_{ij}), B_{k,m}=(b_{ij})$ можно определить их __произведение (важен порядок!)__\n",
    "\n",
    "$$\n",
    "\\begin{aligned}\n",
    "\tAB&=(AB)_{n,m} & [AB]_{i,j}&=\\sum_{l=1}^k[A]_{i,l}[B]_{l,j}\n",
    "\\end{aligned}\n",
    "$$\n",
    "\n",
    "**<span style=\"color:purple\">Замечание :</span>**\n",
    "- Число столбцов в первом множителе д.б. равно числу строк во втором множителе. __Иначе произведение не определено__\n",
    "- В произведении элементы строка $i$ матрицы $A$ умножаются и складывается с элементами столбца $j$ матрицы $B$\n",
    "- Порядок множителе важен. В общем случае $AB\\ne BA$\n",
    "- Для вычисления матричного произведения в `numpy` используется символ `@`\n",
    "\n",
    "</div>\n",
    "\n",
    "__Пример__: Вычислим \n",
    "\n",
    "$$\n",
    "\\begin{aligned}\n",
    "\tA&B & A&=\\begin{pmatrix} 0 & 1 & 1 \\\\ 2 & -1 & 0\\end{pmatrix} & B&=\\begin{pmatrix} 1 & 2 \\\\ -2 & 0 \\\\ 1 & -1\\end{pmatrix}\n",
    "\\end{aligned}\n",
    "$$\n",
    "\n",
    "Вначале убедимся, что произведение определено"
   ]
  },
  {
   "cell_type": "code",
   "execution_count": 8,
   "metadata": {},
   "outputs": [
    {
     "data": {
      "text/plain": [
       "((2, 3), (3, 2))"
      ]
     },
     "execution_count": 8,
     "metadata": {},
     "output_type": "execute_result"
    }
   ],
   "source": [
    "A = np.array([[0, 1, 1], [2, -1, 0]])\n",
    "B = np.array([[1, 2] , [-2, 0], [1, -1]])\n",
    "A.shape, B.shape"
   ]
  },
  {
   "cell_type": "code",
   "execution_count": 9,
   "metadata": {},
   "outputs": [
    {
     "name": "stdout",
     "output_type": "stream",
     "text": [
      "Произведение AB определено. Произведение AB имеет размер (2, 2)\n"
     ]
    }
   ],
   "source": [
    "# проверим, что произведение определено\n",
    "if A.shape[1] == B.shape[0]:\n",
    "\tprint(f'Произведение AB определено. Произведение AB имеет размер {A.shape[0], B.shape[1]}')\n",
    "else:\n",
    "\tprint(f'Произведение AB не определено')"
   ]
  },
  {
   "cell_type": "code",
   "execution_count": 10,
   "metadata": {},
   "outputs": [
    {
     "name": "stdout",
     "output_type": "stream",
     "text": [
      "[[-1 -1]\n",
      " [ 4  4]]\n"
     ]
    }
   ],
   "source": [
    "print(A@B)"
   ]
  },
  {
   "cell_type": "markdown",
   "metadata": {},
   "source": [
    "## Обратная матрица\n",
    "\n",
    "<div style=\"background-color:Bisque; color:DarkBlue; padding:30px;\">\n",
    "\n",
    "Пусть $A$ - квадратная матрица. Матрица $B$ называется **обратной к $A$** если верны равенства\n",
    "\n",
    "$$\n",
    "\tAB=BA=I\n",
    "$$\n",
    "\n",
    "где $I$ - единичная матрица соответствущего порядка.\n",
    "\n",
    "__Обозначение__: $B=A^{-1}$\n",
    "\n",
    "**<span style=\"color:purple\">Замечание :</span>**\n",
    "- Обратная матрица определена однозначно\n",
    "- __Не любая матрица имеет обратную__\n",
    "- Если матрица имеет обратную, то она __обратима__\n",
    "- Для вычисления обратной матрицы используем метод `numpy.linalg.inv()`\n",
    "\n",
    "</div>\n",
    "\n",
    "__Пример__: Вычислим матрицу, обратную к $A=\\begin{pmatrix} 5 & 3 \\\\ 2 & 1\\end{pmatrix}$"
   ]
  },
  {
   "cell_type": "code",
   "execution_count": 11,
   "metadata": {},
   "outputs": [
    {
     "data": {
      "text/plain": [
       "array([[-1.,  2.],\n",
       "       [ 3., -5.]])"
      ]
     },
     "execution_count": 11,
     "metadata": {},
     "output_type": "execute_result"
    }
   ],
   "source": [
    "A = np.array([[5, 2], [3, 1]])\n",
    "np.linalg.inv(A)"
   ]
  },
  {
   "cell_type": "markdown",
   "metadata": {},
   "source": [
    "## Матричные уравнения\n",
    "\n",
    "<div style=\"background-color:Bisque; color:DarkBlue; padding:30px;\">\n",
    "\n",
    "Для заданных матриц $A_{n,n}$ и $B_{n,m}$ рассмотрим матричное уравнение\n",
    "\n",
    "$$\n",
    "\tAX=B\n",
    "$$\n",
    "\n",
    "относительно неизвестной матрицы $X_{n,m}$\n",
    "\n",
    "**<span style=\"color:purple\">Предложение :</span>** если $A$ обратима, то уравнение имеет единственное решение $X=A^{-1}B$\n",
    "\n",
    "**<span style=\"color:purple\">Замечание 1:</span>**  Для решения уравнения \n",
    "- используем метод `numpy.linalg.solve(a,b)`\n",
    "- альтернативно можно через явную формулу, предварительно вычислив обратную матрицу\n",
    "\n",
    "**<span style=\"color:purple\">Замечание 2:</span>** При заданных $A_{m,m},B_{n,m}$ рассмотрим уравнение $XA=B$ относительно неизвестной матрицы $X_{n,m}$. Оно сводится к предыдущем случаю транспонированием\n",
    "\n",
    "$$\n",
    "\tXA=B\\iff A^\\top X^\\top=B^\\top\n",
    "$$\n",
    "\n",
    "Если матрица $A$ обратима, то это уравнение имеет единственное решения $X=BA^{-1}$\n",
    "\n",
    "</div>\n",
    "\n",
    "__Пример__: Решим уравнение $AX=B$ при \n",
    "\n",
    "$$\n",
    "\\begin{aligned}\n",
    "\tA&=\\begin{pmatrix} 5 & 2 \\\\ 3 & 1\\end{pmatrix} & B&=\\begin{pmatrix} 2 & 0 & 1 \\\\ -1 & 1 & 2\\end{pmatrix}\n",
    "\\end{aligned}\n",
    "$$"
   ]
  },
  {
   "cell_type": "code",
   "execution_count": 12,
   "metadata": {},
   "outputs": [
    {
     "data": {
      "text/plain": [
       "array([[-4.,  2.,  3.],\n",
       "       [11., -5., -7.]])"
      ]
     },
     "execution_count": 12,
     "metadata": {},
     "output_type": "execute_result"
    }
   ],
   "source": [
    "A = np.array([[5, 2], [3, 1]])\n",
    "B = np.array([[2, 0, 1], [-1, 1, 2]])\n",
    "np.linalg.solve(A,B)"
   ]
  },
  {
   "cell_type": "markdown",
   "metadata": {},
   "source": [
    "## Определитель матрицы\n",
    "\n",
    "<div style=\"background-color:Bisque; color:DarkBlue; padding:30px;\">\n",
    "\n",
    "Пусть $A$ - квадратная матрица. Для вычисления её определителя используем метод `numpy.linalg.det()`\n",
    "\n",
    "__Обозначение__: $B=A^{-1}$\n",
    "\n",
    "**<span style=\"color:purple\">Свойство :</span>** Матрица $A$ обратима $\\iff\\det(A)\\ne 0$\n",
    "\n",
    "</div>\n",
    "\n",
    "__Пример__: Вычисли определитель матрицы $A=\\begin{pmatrix} 5 & 2 \\\\ 3 & 1\\end{pmatrix}$"
   ]
  },
  {
   "cell_type": "code",
   "execution_count": 13,
   "metadata": {},
   "outputs": [
    {
     "data": {
      "text/plain": [
       "np.float64(-1.0000000000000009)"
      ]
     },
     "execution_count": 13,
     "metadata": {},
     "output_type": "execute_result"
    }
   ],
   "source": [
    "A = np.array([[5, 2], [3, 1]])\n",
    "np.linalg.det(A)"
   ]
  }
 ],
 "metadata": {
  "kernelspec": {
   "display_name": "base",
   "language": "python",
   "name": "python3"
  },
  "language_info": {
   "codemirror_mode": {
    "name": "ipython",
    "version": 3
   },
   "file_extension": ".py",
   "mimetype": "text/x-python",
   "name": "python",
   "nbconvert_exporter": "python",
   "pygments_lexer": "ipython3",
   "version": "3.12.9"
  }
 },
 "nbformat": 4,
 "nbformat_minor": 2
}
