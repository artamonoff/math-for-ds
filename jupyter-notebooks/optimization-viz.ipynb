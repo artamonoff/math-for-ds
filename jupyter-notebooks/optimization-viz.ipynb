{
 "cells": [
  {
   "cell_type": "markdown",
   "id": "110cf061",
   "metadata": {},
   "source": [
    "# Безусловная оптимизация (визуализация)"
   ]
  },
  {
   "cell_type": "code",
   "execution_count": null,
   "id": "cace1317",
   "metadata": {},
   "outputs": [],
   "source": [
    "import numpy as np\n",
    "import plotly.graph_objects as go"
   ]
  },
  {
   "cell_type": "markdown",
   "id": "0333c51e",
   "metadata": {},
   "source": [
    "## Функции одной переменной\n",
    "\n",
    "Рассмотрим функцию $f(x)=x^3-3x^2-2x+2$"
   ]
  },
  {
   "cell_type": "code",
   "execution_count": null,
   "id": "69c2bcb6",
   "metadata": {},
   "outputs": [],
   "source": [
    "X = np.arange(start=-3, stop=4, step=0.2)\n",
    "Y = X**3-3*(X**2)-2*X+2\n",
    "\n",
    "fig = go.Figure(data=[go.Scatter(x=X, y=Y)])\n",
    "fig.show()\n"
   ]
  },
  {
   "cell_type": "markdown",
   "id": "0e62b0df",
   "metadata": {},
   "source": [
    "## Функции многих переменных\n",
    "\n",
    "### Пример 1\n",
    "Рассмотрим функцию $x^2+4y^2-2x-4y+10$"
   ]
  },
  {
   "cell_type": "code",
   "execution_count": null,
   "id": "ac38dd1f",
   "metadata": {},
   "outputs": [],
   "source": [
    "# Визуализация\n",
    "# Making grid\n",
    "X = np.arange(start=-10, stop=10, step=0.2)\n",
    "Y = np.arange(start=-10, stop=10, step=0.2)\n",
    "X, Y = np.meshgrid(X, Y)\n",
    "Z = X**2+4*Y**2-2*X-4*Y+10\n",
    "\n",
    "fig = go.Figure(data=[go.Surface(x=X, y=Y, z=Z)])\n",
    "fig.show()"
   ]
  },
  {
   "cell_type": "markdown",
   "id": "7965d969",
   "metadata": {},
   "source": [
    "### Пример 2\n",
    "Рассмотрим функцию $10+2x-2y-4x^2-y^2+2xy$"
   ]
  },
  {
   "cell_type": "code",
   "execution_count": null,
   "id": "d6e34b86",
   "metadata": {},
   "outputs": [],
   "source": [
    "# Визуализация\n",
    "# Making grid\n",
    "X = np.arange(start=-20, stop=20, step=0.2)\n",
    "Y = np.arange(start=-20, stop=20, step=0.2)\n",
    "X, Y = np.meshgrid(X, Y)\n",
    "Z = 10+2*X-2*Y-4*X**2-Y**2+2*X*Y\n",
    "\n",
    "fig = go.Figure(data=[go.Surface(x=X, y=Y, z=Z)])\n",
    "fig.show()"
   ]
  },
  {
   "cell_type": "markdown",
   "id": "34bc1197",
   "metadata": {},
   "source": [
    "## Пример 3\n",
    "Рассморим функцию $10+2x-2y-4x^2-y^2+8xy$"
   ]
  },
  {
   "cell_type": "code",
   "execution_count": null,
   "id": "ef49cfb7",
   "metadata": {},
   "outputs": [],
   "source": [
    "# Визуализация\n",
    "# Making grid\n",
    "X = np.arange(start=-20, stop=20, step=0.2)\n",
    "Y = np.arange(start=-20, stop=20, step=0.2)\n",
    "X, Y = np.meshgrid(X, Y)\n",
    "Z = 10+2*X-2*Y-4*X**2-Y**2+8*X*Y\n",
    "\n",
    "fig = go.Figure(data=[go.Surface(x=X, y=Y, z=Z)])\n",
    "fig.show()"
   ]
  },
  {
   "cell_type": "markdown",
   "id": "01033d17",
   "metadata": {},
   "source": [
    "## Пример 4\n",
    "Рассморим функцию $x^3+x^2y-2y^3+6y$"
   ]
  },
  {
   "cell_type": "code",
   "execution_count": null,
   "id": "02c4bfde",
   "metadata": {},
   "outputs": [],
   "source": [
    "# Визуализация\n",
    "# Making grid\n",
    "X = np.arange(start=-4, stop=4, step=0.1)\n",
    "Y = np.arange(start=-4, stop=4, step=0.1)\n",
    "X, Y = np.meshgrid(X, Y)\n",
    "Z = X**3+X**2*Y-2*Y**3+6*Y\n",
    "\n",
    "fig = go.Figure(data=[go.Surface(x=X, y=Y, z=Z)])\n",
    "fig.show()"
   ]
  }
 ],
 "metadata": {
  "kernelspec": {
   "display_name": "base",
   "language": "python",
   "name": "python3"
  },
  "language_info": {
   "codemirror_mode": {
    "name": "ipython",
    "version": 3
   },
   "file_extension": ".py",
   "mimetype": "text/x-python",
   "name": "python",
   "nbconvert_exporter": "python",
   "pygments_lexer": "ipython3",
   "version": "3.12.9"
  }
 },
 "nbformat": 4,
 "nbformat_minor": 5
}
