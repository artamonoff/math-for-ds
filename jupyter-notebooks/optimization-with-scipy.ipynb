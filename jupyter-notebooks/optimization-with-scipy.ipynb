{
 "cells": [
  {
   "cell_type": "markdown",
   "metadata": {},
   "source": [
    "# Численная оптимизация (библиотека [`scipy`](https://scipy.org), модуль [`scipy.optimize`](https://docs.scipy.org/doc/scipy/reference/optimize.html#module-scipy.optimize))"
   ]
  },
  {
   "cell_type": "code",
   "execution_count": null,
   "metadata": {},
   "outputs": [],
   "source": [
    "import numpy as np\n",
    "from scipy.optimize import minimize"
   ]
  },
  {
   "cell_type": "markdown",
   "metadata": {},
   "source": [
    "## Безусловная оптимизация\n",
    "\n",
    "Будем рассматривать алгоритм Broyden-Fletcher-Goldfarb-Shanno\n",
    "\n",
    "Дла алгоритма нужно задать и целевую функцию, и её производную/градиент"
   ]
  },
  {
   "cell_type": "markdown",
   "metadata": {},
   "source": [
    "### Оптимизация функции одной переменной\n",
    "\n",
    "#### Задача минимизации\n",
    "\n",
    "Рассмотрим задачу\n",
    "\n",
    "$$\n",
    "\t(loc)\\min (2x^2-3x+4)\n",
    "$$\n",
    "\n",
    "__Важно__: метод `minimize` решает только задачу минимизации\n",
    "\n",
    "Производная функции\n",
    "\n",
    "$$\n",
    "\tf'(x)=4x-3\n",
    "$$\n",
    "\n",
    "Зададим целевую функцию, её градиент, выберем начальное приближение $x_0=1$, точность $1*10^{-8}$ (`tol`) и вызовем метод `minimize`"
   ]
  },
  {
   "cell_type": "code",
   "execution_count": null,
   "metadata": {},
   "outputs": [],
   "source": [
    "def f(x):\n",
    "    return 2*(x**2)-3*x+4\n",
    "def grad_f(x):\n",
    "    return 4*x-3\n",
    "\n",
    "x0 = 1\n",
    "res = minimize(f, x0, method='BFGS', jac=grad_f, tol=1e-8)\n",
    "# протокол оптимизации\n",
    "res"
   ]
  },
  {
   "cell_type": "code",
   "execution_count": null,
   "metadata": {},
   "outputs": [],
   "source": [
    "# оптимальное решение\n",
    "res.x"
   ]
  },
  {
   "cell_type": "markdown",
   "metadata": {},
   "source": [
    "#### Задача максимизации\n",
    "\n",
    "Рассмотрим задачу\n",
    "\n",
    "$$\n",
    "\t(loc)\\max (-2x^2+4x-4)\n",
    "$$\n",
    "\n",
    "__Важно__: т.к. метод `minimize` решает только задачу минимизации, будем решать задачу\n",
    "\n",
    "$$\n",
    "\\begin{aligned}\n",
    "\t(loc)\\min & f & f&=2x^2-4x+4\n",
    "\\end{aligned}\n",
    "$$\n",
    "\n",
    "Производная функции\n",
    "\n",
    "$$\n",
    "\tf'(x)=4x-4\n",
    "$$\n",
    "\n",
    "Зададим целевую функцию, её градиент, выберем начальное приближение $x_0=1$, точность $1*10^{-8}$ (`tol`) и вызовем метод `minimize`"
   ]
  },
  {
   "cell_type": "code",
   "execution_count": null,
   "metadata": {},
   "outputs": [],
   "source": [
    "def f(x):\n",
    "    return 2*(x**2)-2*x+4\n",
    "def grad_f(x):\n",
    "    return 4*x-2\n",
    "\n",
    "x0 = 1\n",
    "res = minimize(f, x0, method='BFGS', jac=grad_f, tol=1e-8)\n",
    "# протокол оптимизации\n",
    "res"
   ]
  },
  {
   "cell_type": "code",
   "execution_count": null,
   "metadata": {},
   "outputs": [],
   "source": [
    "# оптимальное решение\n",
    "res.x"
   ]
  },
  {
   "cell_type": "markdown",
   "metadata": {},
   "source": [
    "### Оптимизация функции нескольких переменных\n",
    "\n",
    "Рассмотрим задачу\n",
    "\n",
    "$$\n",
    "\t(loc)\\max(10+2x-2y-4x^2-y^2+2xy)\n",
    "$$\n",
    "\n",
    "__Важно__: т.к. метод `minimize` решает только задачу минимизации, будем решать задачу\n",
    "\n",
    "$$\n",
    "\\begin{aligned}\n",
    "\t(loc)\\min & f & f&=-(10+2x-2y-4x^2-y^2+2xy)=-10-2x+2y+4x^2+y^2-2xy\n",
    "\\end{aligned}\n",
    "$$\n",
    "\n",
    "Градиент\n",
    "\n",
    "$$\n",
    "\tgrad f=\\begin{pmatrix} -2+8x-2y\\\\ 2+2y-2x \\end{pmatrix}\n",
    "$$\n",
    "\n",
    "Зададим целевую функцию, её градиент, выберем начальное приближение $x_0=(1, 1)$, точность $1*10^{-8}$ (`tol`) и вызовем метод `minimize`"
   ]
  },
  {
   "cell_type": "code",
   "execution_count": null,
   "metadata": {},
   "outputs": [],
   "source": [
    "def f(x):\n",
    "    return -10-2*x[0]+2*x[1]+4*x[0]**2+x[1]**2-2*x[0]*x[1]\n",
    "def grad_f(x):\n",
    "    f_x = -2+8*x[0]-2*x[1]\n",
    "    f_y = 2+2*x[1]-2*x[0]\n",
    "    return np.array([f_x, f_y])\n",
    "\n",
    "x0 = np.array([1, 1])\n",
    "res = minimize(f, x0, method='BFGS', jac=grad_f, tol=1e-8)\n",
    "# протокол оптимизации\n",
    "res"
   ]
  },
  {
   "cell_type": "code",
   "execution_count": null,
   "metadata": {},
   "outputs": [],
   "source": [
    "# оптимальное решение\n",
    "res.x"
   ]
  }
 ],
 "metadata": {
  "kernelspec": {
   "display_name": "base",
   "language": "python",
   "name": "python3"
  },
  "language_info": {
   "codemirror_mode": {
    "name": "ipython",
    "version": 3
   },
   "file_extension": ".py",
   "mimetype": "text/x-python",
   "name": "python",
   "nbconvert_exporter": "python",
   "pygments_lexer": "ipython3",
   "version": "3.12.9"
  }
 },
 "nbformat": 4,
 "nbformat_minor": 2
}
